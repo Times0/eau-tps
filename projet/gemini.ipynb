{
 "cells": [
  {
   "cell_type": "code",
   "execution_count": 2,
   "metadata": {},
   "outputs": [
    {
     "name": "stderr",
     "output_type": "stream",
     "text": [
      "C:\\Users\\spoto\\AppData\\Local\\Temp\\ipykernel_10216\\623196123.py:16: FutureWarning: The argument 'infer_datetime_format' is deprecated and will be removed in a future version. A strict version of it is now the default, see https://pandas.pydata.org/pdeps/0004-consistent-to-datetime-parsing.html. You can safely remove this argument.\n",
      "  physico_chimiques = pd.read_csv(\n"
     ]
    }
   ],
   "source": [
    "import pandas as pd\n",
    "import numpy as np\n",
    "from sklearn.cluster import KMeans\n",
    "from sklearn.preprocessing import StandardScaler\n",
    "import matplotlib.pyplot as plt\n",
    "\n",
    "file_name=\"data/donnees_physicochimie.csv.zst\"\n",
    "pc_sample = pd.read_csv(file_name,nrows=1)\n",
    "pc_list_cols = pc_sample.columns\n",
    "pc_list_cat = pc_list_cols[pc_list_cols.str.startswith((\n",
    "    'Lb','Nom','Mnemo',\n",
    "    'Cd','Sym','Com'))]\n",
    "\n",
    "pc_dict_cat = {col: 'category' for col in pc_list_cat}\n",
    "\n",
    "physico_chimiques = pd.read_csv(\n",
    "        \"data/donnees_physicochimie.csv.zst\",\n",
    "        sep=',',\n",
    "        dtype=pc_dict_cat,\n",
    "        engine='c',\n",
    "        escapechar='\\\\',\n",
    "        parse_dates=[7],\n",
    "        iterator=False)\n",
    "\n",
    "hydrobio = pd.read_csv(\"data/donnees_hydrobio.csv.zst\", sep=',')\n",
    "df_stations = pd.read_csv(\"data/stations_hb.csv.zst\", sep=';', escapechar='\\\\')"
   ]
  },
  {
   "cell_type": "code",
   "execution_count": 7,
   "metadata": {},
   "outputs": [],
   "source": [
    "df_stations.describe(include='all')"
   ]
  },
  {
   "cell_type": "code",
   "execution_count": 9,
   "metadata": {},
   "outputs": [
    {
     "ename": "KeyError",
     "evalue": "'EtatBiologique'",
     "output_type": "error",
     "traceback": [
      "\u001b[1;31m---------------------------------------------------------------------------\u001b[0m",
      "\u001b[1;31mKeyError\u001b[0m                                  Traceback (most recent call last)",
      "File \u001b[1;32mc:\\Programmation\\School\\TPS\\eau\\.venv\\Lib\\site-packages\\pandas\\core\\indexes\\base.py:3805\u001b[0m, in \u001b[0;36mIndex.get_loc\u001b[1;34m(self, key)\u001b[0m\n\u001b[0;32m   3804\u001b[0m \u001b[38;5;28;01mtry\u001b[39;00m:\n\u001b[1;32m-> 3805\u001b[0m     \u001b[38;5;28;01mreturn\u001b[39;00m \u001b[38;5;28;43mself\u001b[39;49m\u001b[38;5;241;43m.\u001b[39;49m\u001b[43m_engine\u001b[49m\u001b[38;5;241;43m.\u001b[39;49m\u001b[43mget_loc\u001b[49m\u001b[43m(\u001b[49m\u001b[43mcasted_key\u001b[49m\u001b[43m)\u001b[49m\n\u001b[0;32m   3806\u001b[0m \u001b[38;5;28;01mexcept\u001b[39;00m \u001b[38;5;167;01mKeyError\u001b[39;00m \u001b[38;5;28;01mas\u001b[39;00m err:\n",
      "File \u001b[1;32mindex.pyx:167\u001b[0m, in \u001b[0;36mpandas._libs.index.IndexEngine.get_loc\u001b[1;34m()\u001b[0m\n",
      "File \u001b[1;32mindex.pyx:196\u001b[0m, in \u001b[0;36mpandas._libs.index.IndexEngine.get_loc\u001b[1;34m()\u001b[0m\n",
      "File \u001b[1;32mpandas\\\\_libs\\\\hashtable_class_helper.pxi:7081\u001b[0m, in \u001b[0;36mpandas._libs.hashtable.PyObjectHashTable.get_item\u001b[1;34m()\u001b[0m\n",
      "File \u001b[1;32mpandas\\\\_libs\\\\hashtable_class_helper.pxi:7089\u001b[0m, in \u001b[0;36mpandas._libs.hashtable.PyObjectHashTable.get_item\u001b[1;34m()\u001b[0m\n",
      "\u001b[1;31mKeyError\u001b[0m: 'EtatBiologique'",
      "\nThe above exception was the direct cause of the following exception:\n",
      "\u001b[1;31mKeyError\u001b[0m                                  Traceback (most recent call last)",
      "Cell \u001b[1;32mIn[9], line 20\u001b[0m\n\u001b[0;32m     16\u001b[0m kmeans_mauvais \u001b[38;5;241m=\u001b[39m KMeans(n_clusters\u001b[38;5;241m=\u001b[39m\u001b[38;5;241m2\u001b[39m, random_state\u001b[38;5;241m=\u001b[39m\u001b[38;5;241m42\u001b[39m) \u001b[38;5;66;03m# Exemple: 2 clusters pour les stations en mauvais état\u001b[39;00m\n\u001b[0;32m     18\u001b[0m \u001b[38;5;66;03m# ... Jointure avec les données hydrobiologiques et classification des stations ...\u001b[39;00m\n\u001b[0;32m     19\u001b[0m \u001b[38;5;66;03m# Exemple: jointure et ajout d'une colonne 'EtatBiologique'\u001b[39;00m\n\u001b[1;32m---> 20\u001b[0m data \u001b[38;5;241m=\u001b[39m nitrates_mensuels\u001b[38;5;241m.\u001b[39mjoin(\u001b[43mhydrobio\u001b[49m\u001b[38;5;241;43m.\u001b[39;49m\u001b[43mset_index\u001b[49m\u001b[43m(\u001b[49m\u001b[38;5;124;43m'\u001b[39;49m\u001b[38;5;124;43mCdStationMesureEauxSurface\u001b[39;49m\u001b[38;5;124;43m'\u001b[39;49m\u001b[43m)\u001b[49m\u001b[43m[\u001b[49m\u001b[38;5;124;43m'\u001b[39;49m\u001b[38;5;124;43mEtatBiologique\u001b[39;49m\u001b[38;5;124;43m'\u001b[39;49m\u001b[43m]\u001b[49m, on\u001b[38;5;241m=\u001b[39m\u001b[38;5;124m'\u001b[39m\u001b[38;5;124mCdStationMesureEauxSurface\u001b[39m\u001b[38;5;124m'\u001b[39m)\n\u001b[0;32m     21\u001b[0m data[\u001b[38;5;124m'\u001b[39m\u001b[38;5;124mEtatBiologique\u001b[39m\u001b[38;5;124m'\u001b[39m] \u001b[38;5;241m=\u001b[39m data[\u001b[38;5;124m'\u001b[39m\u001b[38;5;124mEtatBiologique\u001b[39m\u001b[38;5;124m'\u001b[39m]\u001b[38;5;241m.\u001b[39mmap({\u001b[38;5;124m'\u001b[39m\u001b[38;5;124mBon\u001b[39m\u001b[38;5;124m'\u001b[39m: \u001b[38;5;241m0\u001b[39m, \u001b[38;5;124m'\u001b[39m\u001b[38;5;124mMauvais\u001b[39m\u001b[38;5;124m'\u001b[39m: \u001b[38;5;241m1\u001b[39m})\n\u001b[0;32m     23\u001b[0m \u001b[38;5;66;03m# ... Classification des stations en bon état ...\u001b[39;00m\n",
      "File \u001b[1;32mc:\\Programmation\\School\\TPS\\eau\\.venv\\Lib\\site-packages\\pandas\\core\\frame.py:4102\u001b[0m, in \u001b[0;36mDataFrame.__getitem__\u001b[1;34m(self, key)\u001b[0m\n\u001b[0;32m   4100\u001b[0m \u001b[38;5;28;01mif\u001b[39;00m \u001b[38;5;28mself\u001b[39m\u001b[38;5;241m.\u001b[39mcolumns\u001b[38;5;241m.\u001b[39mnlevels \u001b[38;5;241m>\u001b[39m \u001b[38;5;241m1\u001b[39m:\n\u001b[0;32m   4101\u001b[0m     \u001b[38;5;28;01mreturn\u001b[39;00m \u001b[38;5;28mself\u001b[39m\u001b[38;5;241m.\u001b[39m_getitem_multilevel(key)\n\u001b[1;32m-> 4102\u001b[0m indexer \u001b[38;5;241m=\u001b[39m \u001b[38;5;28;43mself\u001b[39;49m\u001b[38;5;241;43m.\u001b[39;49m\u001b[43mcolumns\u001b[49m\u001b[38;5;241;43m.\u001b[39;49m\u001b[43mget_loc\u001b[49m\u001b[43m(\u001b[49m\u001b[43mkey\u001b[49m\u001b[43m)\u001b[49m\n\u001b[0;32m   4103\u001b[0m \u001b[38;5;28;01mif\u001b[39;00m is_integer(indexer):\n\u001b[0;32m   4104\u001b[0m     indexer \u001b[38;5;241m=\u001b[39m [indexer]\n",
      "File \u001b[1;32mc:\\Programmation\\School\\TPS\\eau\\.venv\\Lib\\site-packages\\pandas\\core\\indexes\\base.py:3812\u001b[0m, in \u001b[0;36mIndex.get_loc\u001b[1;34m(self, key)\u001b[0m\n\u001b[0;32m   3807\u001b[0m     \u001b[38;5;28;01mif\u001b[39;00m \u001b[38;5;28misinstance\u001b[39m(casted_key, \u001b[38;5;28mslice\u001b[39m) \u001b[38;5;129;01mor\u001b[39;00m (\n\u001b[0;32m   3808\u001b[0m         \u001b[38;5;28misinstance\u001b[39m(casted_key, abc\u001b[38;5;241m.\u001b[39mIterable)\n\u001b[0;32m   3809\u001b[0m         \u001b[38;5;129;01mand\u001b[39;00m \u001b[38;5;28many\u001b[39m(\u001b[38;5;28misinstance\u001b[39m(x, \u001b[38;5;28mslice\u001b[39m) \u001b[38;5;28;01mfor\u001b[39;00m x \u001b[38;5;129;01min\u001b[39;00m casted_key)\n\u001b[0;32m   3810\u001b[0m     ):\n\u001b[0;32m   3811\u001b[0m         \u001b[38;5;28;01mraise\u001b[39;00m InvalidIndexError(key)\n\u001b[1;32m-> 3812\u001b[0m     \u001b[38;5;28;01mraise\u001b[39;00m \u001b[38;5;167;01mKeyError\u001b[39;00m(key) \u001b[38;5;28;01mfrom\u001b[39;00m \u001b[38;5;21;01merr\u001b[39;00m\n\u001b[0;32m   3813\u001b[0m \u001b[38;5;28;01mexcept\u001b[39;00m \u001b[38;5;167;01mTypeError\u001b[39;00m:\n\u001b[0;32m   3814\u001b[0m     \u001b[38;5;66;03m# If we have a listlike key, _check_indexing_error will raise\u001b[39;00m\n\u001b[0;32m   3815\u001b[0m     \u001b[38;5;66;03m#  InvalidIndexError. Otherwise we fall through and re-raise\u001b[39;00m\n\u001b[0;32m   3816\u001b[0m     \u001b[38;5;66;03m#  the TypeError.\u001b[39;00m\n\u001b[0;32m   3817\u001b[0m     \u001b[38;5;28mself\u001b[39m\u001b[38;5;241m.\u001b[39m_check_indexing_error(key)\n",
      "\u001b[1;31mKeyError\u001b[0m: 'EtatBiologique'"
     ]
    }
   ],
   "source": [
    "\n",
    "# 1. Filtrage des données (Nitrates)\n",
    "nitrates = physico_chimiques[physico_chimiques['LbLongParamètre'] == 'Nitrates'].copy()\n",
    "nitrates['DatePrel'] = pd.to_datetime(nitrates['DatePrel'])\n",
    "\n",
    "# 2. Agrégation temporelle (moyenne mensuelle)\n",
    "nitrates['Mois'] = nitrates['DatePrel'].dt.to_period('M')\n",
    "nitrates_mensuels = nitrates.groupby(['CdStationMesureEauxSurface', 'Mois'])['RsAna'].mean().reset_index()\n",
    "nitrates_mensuels['Mois'] = nitrates_mensuels['Mois'].dt.to_timestamp()\n",
    "nitrates_mensuels = nitrates_mensuels.pivot(index='CdStationMesureEauxSurface', columns='Mois', values='RsAna')\n",
    "\n",
    "# 3. Préparation des données pour le clustering\n",
    "nitrates_scaled = StandardScaler().fit_transform(nitrates_mensuels.fillna(0)) # Gestion des valeurs manquantes\n",
    "\n",
    "# 4. Clustering (exemple avec K-Means)\n",
    "kmeans_bon = KMeans(n_clusters=3, random_state=42) # Exemple: 3 clusters pour les stations en bon état\n",
    "kmeans_mauvais = KMeans(n_clusters=2, random_state=42) # Exemple: 2 clusters pour les stations en mauvais état\n",
    "\n",
    "# ... Jointure avec les données hydrobiologiques et classification des stations ...\n",
    "# Exemple: jointure et ajout d'une colonne 'EtatBiologique'\n",
    "data = nitrates_mensuels.join(hydrobio.set_index('CdStationMesureEauxSurface')['EtatBiologique'], on='CdStationMesureEauxSurface')\n",
    "data['EtatBiologique'] = data['EtatBiologique'].map({'Bon': 0, 'Mauvais': 1})\n",
    "\n",
    "# ... Classification des stations en bon état ...\n",
    "kmeans_bon.fit(nitrates_scaled)\n",
    "data['ClusterBon'] = kmeans_bon.labels_\n",
    "\n",
    "# ... Classification des stations en mauvais état ...\n",
    "kmeans_mauvais.fit(nitrates_scaled)\n",
    "data['ClusterMauvais'] = kmeans_mauvais.labels_\n",
    "\n",
    "# 5. Visualisation des clusters\n",
    "# Exemple: visualisation des clusters pour les stations en bon état\n",
    "fig, ax = plt.subplots()\n",
    "for cluster in data['ClusterBon'].unique():\n",
    "    cluster_data = data[data['ClusterBon'] == cluster]\n",
    "    ax.plot(cluster_data.dropna(axis=1).mean(), label=f'Cluster {cluster}')\n",
    "ax.legend()\n",
    "plt.show()\n",
    "\n",
    "\n"
   ]
  }
 ],
 "metadata": {
  "kernelspec": {
   "display_name": ".venv",
   "language": "python",
   "name": "python3"
  },
  "language_info": {
   "codemirror_mode": {
    "name": "ipython",
    "version": 3
   },
   "file_extension": ".py",
   "mimetype": "text/x-python",
   "name": "python",
   "nbconvert_exporter": "python",
   "pygments_lexer": "ipython3",
   "version": "3.11.8"
  }
 },
 "nbformat": 4,
 "nbformat_minor": 2
}
