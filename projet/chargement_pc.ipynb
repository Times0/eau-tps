{
 "cells": [
  {
   "cell_type": "code",
   "execution_count": 2,
   "id": "eff5e76d-6552-4ad5-89b7-fff74af63392",
   "metadata": {},
   "outputs": [],
   "source": [
    "import pandas as pd\n",
    "f=\"data/donnees_physicochimie.csv.zst\"\n",
    "pc_sample = pd.read_csv(f,nrows=1)\n",
    "pc_list_cols = pc_sample.columns\n",
    "pc_list_cat = pc_list_cols[pc_list_cols.str.startswith((\n",
    "    'Lb','Nom','Mnemo',\n",
    "    'Cd','Sym','Com'))]\n",
    "\n",
    "pc_dict_cat = {col: 'category' for col in pc_list_cat}"
   ]
  },
  {
   "cell_type": "code",
   "execution_count": 6,
   "id": "1e5d0368-7297-444d-bc30-e8be29a0ba2e",
   "metadata": {},
   "outputs": [
    {
     "data": {
      "text/html": [
       "<div>\n",
       "<style scoped>\n",
       "    .dataframe tbody tr th:only-of-type {\n",
       "        vertical-align: middle;\n",
       "    }\n",
       "\n",
       "    .dataframe tbody tr th {\n",
       "        vertical-align: top;\n",
       "    }\n",
       "\n",
       "    .dataframe thead th {\n",
       "        text-align: right;\n",
       "    }\n",
       "</style>\n",
       "<table border=\"1\" class=\"dataframe\">\n",
       "  <thead>\n",
       "    <tr style=\"text-align: right;\">\n",
       "      <th></th>\n",
       "      <th>CdStationMesureEauxSurface</th>\n",
       "      <th>LbStationMesureEauxSurface</th>\n",
       "      <th>CdSupport</th>\n",
       "      <th>LbSupport</th>\n",
       "      <th>CdFractionAnalysee</th>\n",
       "      <th>LbFractionAnalysee</th>\n",
       "      <th>CdPrelevement</th>\n",
       "      <th>DatePrel</th>\n",
       "      <th>HeurePrel</th>\n",
       "      <th>CdParametre</th>\n",
       "      <th>...</th>\n",
       "      <th>CommentairesAna</th>\n",
       "      <th>ComResultatAna</th>\n",
       "      <th>CdRdd</th>\n",
       "      <th>NomRdd</th>\n",
       "      <th>CdProducteur</th>\n",
       "      <th>NomProducteur</th>\n",
       "      <th>CdPreleveur</th>\n",
       "      <th>NomPreleveur</th>\n",
       "      <th>CdLaboratoire</th>\n",
       "      <th>NomLaboratoire</th>\n",
       "    </tr>\n",
       "  </thead>\n",
       "  <tbody>\n",
       "    <tr>\n",
       "      <th>0</th>\n",
       "      <td>5005600</td>\n",
       "      <td>La Béronne en aval de Melle</td>\n",
       "      <td>3</td>\n",
       "      <td>Eau</td>\n",
       "      <td>23</td>\n",
       "      <td>Eau brute</td>\n",
       "      <td>200561</td>\n",
       "      <td>2005-07-06</td>\n",
       "      <td>10:55:00</td>\n",
       "      <td>1305</td>\n",
       "      <td>...</td>\n",
       "      <td>NaN</td>\n",
       "      <td>NaN</td>\n",
       "      <td>400000779</td>\n",
       "      <td>Réseau de suivi de la qualité des eaux superfi...</td>\n",
       "      <td>25160178700053</td>\n",
       "      <td>ETABLISSEMENT PUBLIC TERRITORIAL DE BASSIN CHA...</td>\n",
       "      <td>22790001600014</td>\n",
       "      <td>DEPARTEMENT DES DEUX SEVRES</td>\n",
       "      <td>379</td>\n",
       "      <td>Direction Départementale de l'Agriculture et d...</td>\n",
       "    </tr>\n",
       "  </tbody>\n",
       "</table>\n",
       "<p>1 rows × 49 columns</p>\n",
       "</div>"
      ],
      "text/plain": [
       "   CdStationMesureEauxSurface   LbStationMesureEauxSurface  CdSupport  \\\n",
       "0                     5005600  La Béronne en aval de Melle          3   \n",
       "\n",
       "  LbSupport  CdFractionAnalysee LbFractionAnalysee  CdPrelevement    DatePrel  \\\n",
       "0       Eau                  23          Eau brute         200561  2005-07-06   \n",
       "\n",
       "  HeurePrel  CdParametre  ... CommentairesAna  ComResultatAna      CdRdd  \\\n",
       "0  10:55:00         1305  ...             NaN             NaN  400000779   \n",
       "\n",
       "                                              NomRdd    CdProducteur  \\\n",
       "0  Réseau de suivi de la qualité des eaux superfi...  25160178700053   \n",
       "\n",
       "                                       NomProducteur     CdPreleveur  \\\n",
       "0  ETABLISSEMENT PUBLIC TERRITORIAL DE BASSIN CHA...  22790001600014   \n",
       "\n",
       "                  NomPreleveur  CdLaboratoire  \\\n",
       "0  DEPARTEMENT DES DEUX SEVRES            379   \n",
       "\n",
       "                                      NomLaboratoire  \n",
       "0  Direction Départementale de l'Agriculture et d...  \n",
       "\n",
       "[1 rows x 49 columns]"
      ]
     },
     "execution_count": 6,
     "metadata": {},
     "output_type": "execute_result"
    }
   ],
   "source": [
    "pc_sample.head()"
   ]
  }
 ],
 "metadata": {
  "kernelspec": {
   "display_name": "Python 3",
   "language": "python",
   "name": "python3"
  },
  "language_info": {
   "codemirror_mode": {
    "name": "ipython",
    "version": 3
   },
   "file_extension": ".py",
   "mimetype": "text/x-python",
   "name": "python",
   "nbconvert_exporter": "python",
   "pygments_lexer": "ipython3",
   "version": "3.11.8"
  }
 },
 "nbformat": 4,
 "nbformat_minor": 5
}
